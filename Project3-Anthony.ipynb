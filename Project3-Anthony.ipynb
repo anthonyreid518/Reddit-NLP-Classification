{
 "cells": [
  {
   "cell_type": "code",
   "execution_count": 151,
   "id": "hybrid-roller",
   "metadata": {},
   "outputs": [],
   "source": [
    "\n",
    "import matplotlib.pyplot as plt\n",
    "import numpy as np\n",
    "import pandas as pd\n",
    "import seaborn as sns\n",
    "import statsmodels.api as sm\n",
    "from scipy import stats\n",
    "from statsmodels.discrete.discrete_model import Logit\n",
    "import spacy\n",
    "\n",
    "from sklearn.linear_model import LinearRegression, LogisticRegression, Lasso, Ridge,ElasticNet,LassoCV\n",
    "from sklearn.preprocessing import StandardScaler, PolynomialFeatures\n",
    "from sklearn.model_selection import train_test_split, GridSearchCV\n",
    "from sklearn.impute import SimpleImputer\n",
    "from sklearn.pipeline import make_pipeline\n",
    "from sklearn.feature_selection import RFE\n",
    "from category_encoders import OneHotEncoder\n",
    "from sklearn.preprocessing import OrdinalEncoder\n",
    "from sklearn.compose import make_column_transformer, make_column_selector\n",
    "from sklearn.metrics import mean_squared_error\n",
    "from sklearn.model_selection import cross_val_score\n",
    "\n",
    "from sklearn.feature_extraction.text import CountVectorizer\n",
    "from sklearn.metrics import plot_confusion_matrix, balanced_accuracy_score\n",
    "from sklearn.feature_extraction.text import CountVectorizer, TfidfVectorizer\n",
    "from sklearn.naive_bayes import MultinomialNB\n",
    "from sklearn.neighbors import KNeighborsClassifier\n",
    "from sklearn.tree import DecisionTreeClassifier,plot_tree\n",
    "from sklearn.ensemble import RandomForestClassifier, VotingClassifier\n",
    "\n",
    "\n",
    "import sklearn\n",
    "sklearn.set_config(display='diagram')\n",
    "\n",
    "\n",
    "\n",
    "import requests"
   ]
  },
  {
   "cell_type": "markdown",
   "id": "inside-usage",
   "metadata": {},
   "source": [
    "### Webscraping reddit comments to a df"
   ]
  },
  {
   "cell_type": "markdown",
   "id": "digital-summary",
   "metadata": {},
   "source": [
    "Majority of the code in the cell below is commented out to prevent the user from creating another dataframe. The csv file attached to this folder has comments from April 27,2021 and before. If the user wants to create a modern dataframe, they can remove the commented out sections below"
   ]
  },
  {
   "cell_type": "code",
   "execution_count": 4,
   "id": "acknowledged-shannon",
   "metadata": {
    "tags": []
   },
   "outputs": [],
   "source": [
    "# import time\n",
    "base_url = 'https://api.pushshift.io'\n",
    "submission_endpt = '/reddit/submission/search' #main posts in the subreddit\n",
    "comment_endpt = '/reddit/comment/search' #comments on the posts\n",
    "\n",
    "#create a function that reads a comment from reddit and creates a dataframe\n",
    "def reddit_comments(base_url,endpt_url,params):\n",
    "    '''This function takes a base url as a string, a endpoint as a string (can be comments or titles) \n",
    "    and a dictionary as parameters to return a dataframe of 5,000 comments from a subreddit \n",
    "    specified.'''\n",
    "    #intialize empty df \n",
    "    df_final = pd.DataFrame({'subreddit':[],'body':[]})\n",
    "    for i in range(50):\n",
    "        #for each iteration, assign a variable posts to the data\n",
    "        res = requests.get(base_url+endpt_url,params)\n",
    "        posts = res.json()['data']\n",
    "        #update the params dictionary key 'before' with the latest date from our posts\n",
    "        params['before'] = posts[-1]['created_utc']\n",
    "        #create a df from our posts \n",
    "        df = pd.DataFrame(posts)\n",
    "        df_temp = df[['subreddit','body']]\n",
    "        #append the df to a larger dataframe \n",
    "        df_temp.loc[(df_temp['body'] != '[removed]'),:]\n",
    "        df_final = pd.concat([df_final,df_temp])\n",
    "        # set a delay and print out which step we're at\n",
    "        time.sleep(5)\n",
    "        print(i)\n",
    "    return df_final\n",
    "\n",
    "#test to see if the function workds\n",
    "# #test = reddit_comments(base_url,comment_endpt,params)\n",
    "\n",
    "\n",
    "#set parameters and create a machine learning df\n",
    "params = {\n",
    "    'subreddit':'MachineLearning',\n",
    "    'size':100,\n",
    "    'before':None}\n",
    "# ml_df = reddit_comments(base_url,comment_endpt,params)\n",
    "\n",
    "\n",
    "#set parameters and create a artificial intelligence df\n",
    "params = {\n",
    "    'subreddit':'artificial',\n",
    "    'size':100,\n",
    "    'before':None }\n",
    "# ai_df = reddit_comments(base_url,comment_endpt,params)\n",
    "\n",
    "#export df to csv file\n",
    "#ai_df.to_csv('ai_df.csv',index=False)\n",
    "#ml_df.to_csv('ml_df.csv',index=False)"
   ]
  },
  {
   "cell_type": "markdown",
   "id": "alone-chester",
   "metadata": {},
   "source": [
    "## Inspect ml and ai dataframe"
   ]
  },
  {
   "cell_type": "code",
   "execution_count": 5,
   "id": "shaped-antenna",
   "metadata": {},
   "outputs": [],
   "source": [
    "ml_df = pd.read_csv('./ml_df.csv')\n",
    "\n",
    "ai_df = pd.read_csv('./ai_df.csv')\n",
    "\n",
    "\n",
    "(ml_df['body']=='[removed]').sum() #20\n",
    "\n",
    "(ml_df['body']=='[deleted]').sum() #62\n",
    "\n",
    "(ai_df['body']=='[removed]').sum() #36\n",
    "\n",
    "(ai_df['body']=='[deleted]').sum() #75"
   ]
  },
  {
   "cell_type": "code",
   "execution_count": 12,
   "id": "neither-registration",
   "metadata": {},
   "outputs": [
    {
     "data": {
      "text/html": [
       "<div>\n",
       "<style scoped>\n",
       "    .dataframe tbody tr th:only-of-type {\n",
       "        vertical-align: middle;\n",
       "    }\n",
       "\n",
       "    .dataframe tbody tr th {\n",
       "        vertical-align: top;\n",
       "    }\n",
       "\n",
       "    .dataframe thead th {\n",
       "        text-align: right;\n",
       "    }\n",
       "</style>\n",
       "<table border=\"1\" class=\"dataframe\">\n",
       "  <thead>\n",
       "    <tr style=\"text-align: right;\">\n",
       "      <th></th>\n",
       "      <th>subreddit</th>\n",
       "      <th>body</th>\n",
       "    </tr>\n",
       "  </thead>\n",
       "  <tbody>\n",
       "    <tr>\n",
       "      <th>0</th>\n",
       "      <td>artificial</td>\n",
       "      <td>I have an understanding of basic calculus and ...</td>\n",
       "    </tr>\n",
       "    <tr>\n",
       "      <th>1</th>\n",
       "      <td>artificial</td>\n",
       "      <td>I don't know how deep in you are in calculus b...</td>\n",
       "    </tr>\n",
       "  </tbody>\n",
       "</table>\n",
       "</div>"
      ],
      "text/plain": [
       "    subreddit                                               body\n",
       "0  artificial  I have an understanding of basic calculus and ...\n",
       "1  artificial  I don't know how deep in you are in calculus b..."
      ]
     },
     "execution_count": 12,
     "metadata": {},
     "output_type": "execute_result"
    }
   ],
   "source": [
    "ai_df.head(2)"
   ]
  },
  {
   "cell_type": "markdown",
   "id": "alleged-solomon",
   "metadata": {},
   "source": [
    "### Add the comment length and word count to each df"
   ]
  },
  {
   "cell_type": "code",
   "execution_count": 13,
   "id": "inclusive-family",
   "metadata": {
    "tags": []
   },
   "outputs": [],
   "source": [
    "#comment length and word count for ml df\n",
    "length = []\n",
    "for i in range(ml_df.shape[0]):\n",
    "    length.append(len(ml_df['body'][i]))\n",
    "ml_df['comment_length'] = length\n",
    "\n",
    "words = []\n",
    "for i in range(ml_df.shape[0]):\n",
    "    words.append(len(ml_df['body'][i].split(' ')))\n",
    "ml_df['comment_word_count'] = words\n",
    "\n",
    "\n",
    "#comment length and word count for ai df\n",
    "length = []\n",
    "for i in range(ai_df.shape[0]):\n",
    "    length.append(len(ai_df['body'][i]))\n",
    "ai_df['comment_length'] = length\n",
    "\n",
    "words = []\n",
    "for i in range(ai_df.shape[0]):\n",
    "    words.append(len(ai_df['body'][i].split(' ')))\n",
    "ai_df['comment_word_count'] = words"
   ]
  },
  {
   "cell_type": "code",
   "execution_count": 16,
   "id": "finished-sauce",
   "metadata": {},
   "outputs": [
    {
     "data": {
      "text/html": [
       "<div>\n",
       "<style scoped>\n",
       "    .dataframe tbody tr th:only-of-type {\n",
       "        vertical-align: middle;\n",
       "    }\n",
       "\n",
       "    .dataframe tbody tr th {\n",
       "        vertical-align: top;\n",
       "    }\n",
       "\n",
       "    .dataframe thead th {\n",
       "        text-align: right;\n",
       "    }\n",
       "</style>\n",
       "<table border=\"1\" class=\"dataframe\">\n",
       "  <thead>\n",
       "    <tr style=\"text-align: right;\">\n",
       "      <th></th>\n",
       "      <th>subreddit</th>\n",
       "      <th>body</th>\n",
       "      <th>comment_length</th>\n",
       "      <th>comment_word_count</th>\n",
       "    </tr>\n",
       "  </thead>\n",
       "  <tbody>\n",
       "    <tr>\n",
       "      <th>0</th>\n",
       "      <td>MachineLearning</td>\n",
       "      <td>Bottom line is, not everyone can do what IT an...</td>\n",
       "      <td>520</td>\n",
       "      <td>94</td>\n",
       "    </tr>\n",
       "    <tr>\n",
       "      <th>1</th>\n",
       "      <td>MachineLearning</td>\n",
       "      <td>You are not alone with this. Because of the ea...</td>\n",
       "      <td>2526</td>\n",
       "      <td>411</td>\n",
       "    </tr>\n",
       "    <tr>\n",
       "      <th>2</th>\n",
       "      <td>MachineLearning</td>\n",
       "      <td>This sounds familiar to me. Feeling like an im...</td>\n",
       "      <td>627</td>\n",
       "      <td>114</td>\n",
       "    </tr>\n",
       "    <tr>\n",
       "      <th>3</th>\n",
       "      <td>MachineLearning</td>\n",
       "      <td>OP is dumb...jeez.</td>\n",
       "      <td>18</td>\n",
       "      <td>3</td>\n",
       "    </tr>\n",
       "    <tr>\n",
       "      <th>4</th>\n",
       "      <td>MachineLearning</td>\n",
       "      <td>This is getting so old. Please verify my skill...</td>\n",
       "      <td>127</td>\n",
       "      <td>25</td>\n",
       "    </tr>\n",
       "  </tbody>\n",
       "</table>\n",
       "</div>"
      ],
      "text/plain": [
       "         subreddit                                               body  \\\n",
       "0  MachineLearning  Bottom line is, not everyone can do what IT an...   \n",
       "1  MachineLearning  You are not alone with this. Because of the ea...   \n",
       "2  MachineLearning  This sounds familiar to me. Feeling like an im...   \n",
       "3  MachineLearning                                 OP is dumb...jeez.   \n",
       "4  MachineLearning  This is getting so old. Please verify my skill...   \n",
       "\n",
       "   comment_length  comment_word_count  \n",
       "0             520                  94  \n",
       "1            2526                 411  \n",
       "2             627                 114  \n",
       "3              18                   3  \n",
       "4             127                  25  "
      ]
     },
     "execution_count": 16,
     "metadata": {},
     "output_type": "execute_result"
    }
   ],
   "source": [
    "ml_df.head()"
   ]
  },
  {
   "cell_type": "markdown",
   "id": "advanced-nicaragua",
   "metadata": {},
   "source": [
    "### Inspect & EDA"
   ]
  },
  {
   "cell_type": "code",
   "execution_count": 17,
   "id": "convinced-message",
   "metadata": {},
   "outputs": [
    {
     "data": {
      "text/plain": [
       "49.0864"
      ]
     },
     "execution_count": 17,
     "metadata": {},
     "output_type": "execute_result"
    }
   ],
   "source": [
    "ml_df['comment_word_count'].sort_values()[-5:]# 689,695,724,940,942\n",
    "ml_df['comment_word_count'].mean() #54\n",
    "\n",
    "ai_df['comment_word_count'].sort_values()[-5:]# 1298,1300,1311,1335,1350\n",
    "ai_df['comment_word_count'].mean() #50"
   ]
  },
  {
   "cell_type": "code",
   "execution_count": 135,
   "id": "developmental-arthur",
   "metadata": {},
   "outputs": [
    {
     "data": {
      "image/png": "[encoded data removed]",
      "text/plain": [
       "<Figure size 432x288 with 1 Axes>"
      ]
     },
     "metadata": {
      "needs_background": "light"
     },
     "output_type": "display_data"
    }
   ],
   "source": [
    "plt.hist(ml_df['comment_length'],bins=10);\n",
    "plt.xlabel('Comment length', size=20);\n",
    "plt.ylabel('Frequency', size=20);\n",
    "plt.title('Length per comment',size=20);"
   ]
  },
  {
   "cell_type": "code",
   "execution_count": 134,
   "id": "changed-range",
   "metadata": {},
   "outputs": [
    {
     "data": {
      "image/png": "[encoded data removed]",
      "text/plain": [
       "<Figure size 432x288 with 1 Axes>"
      ]
     },
     "metadata": {
      "needs_background": "light"
     },
     "output_type": "display_data"
    }
   ],
   "source": [
    "plt.hist(ml_df['comment_word_count'],bins=10);\n",
    "plt.xlabel('Comment word count', size=20);\n",
    "plt.ylabel('Frequency', size=20);\n",
    "plt.title('Word counts per comment',size=20);\n",
    "#try to remove outliers and do 200+ plotly can help"
   ]
  },
  {
   "cell_type": "markdown",
   "id": "medium-torture",
   "metadata": {},
   "source": [
    "Above we see that both df's have the same mean word count, they're very similar but ml has a higher frequency of comment length. Also ai has more comments with larger word counts. Unsure if this will be a good predictor to subreddit, but it tells us more about the activity going on in each space"
   ]
  },
  {
   "cell_type": "markdown",
   "id": "ordered-recipient",
   "metadata": {},
   "source": [
    "Some words may apprear more requently than others that have nothing to do with either subreddit. To account for this a new_comment section is being created to remove both of these words"
   ]
  },
  {
   "cell_type": "code",
   "execution_count": 19,
   "id": "included-billy",
   "metadata": {},
   "outputs": [],
   "source": [
    "# Replacing unwanted word \n",
    "def remove_unwanted(comment):\n",
    "    '''Thif function takes a comment and checks to see if any of the words in the unwanted\n",
    "    list are in that comment. If so its repalced with irrlevant_. The goal of this is to\n",
    "    remove repetative words.b'''\n",
    "    new_comment = ''\n",
    "    #unwanted = ['https','www','reddit','com','related','questions']\n",
    "    unwanted = ['https','www','reddit','com','related','questions','https www','reddit com',\n",
    "           'reddit.com','www.reddit.com','www reddit com','https www reddit']\n",
    "    for word in comment.split(' '):\n",
    "        if word in unwanted:\n",
    "            new_comment += 'irrelevant_ '\n",
    "        else:\n",
    "            new_comment += word + ' '\n",
    "    return new_comment"
   ]
  },
  {
   "cell_type": "code",
   "execution_count": 20,
   "id": "combined-installation",
   "metadata": {},
   "outputs": [
    {
     "data": {
      "text/html": [
       "<div>\n",
       "<style scoped>\n",
       "    .dataframe tbody tr th:only-of-type {\n",
       "        vertical-align: middle;\n",
       "    }\n",
       "\n",
       "    .dataframe tbody tr th {\n",
       "        vertical-align: top;\n",
       "    }\n",
       "\n",
       "    .dataframe thead th {\n",
       "        text-align: right;\n",
       "    }\n",
       "</style>\n",
       "<table border=\"1\" class=\"dataframe\">\n",
       "  <thead>\n",
       "    <tr style=\"text-align: right;\">\n",
       "      <th></th>\n",
       "      <th>subreddit</th>\n",
       "      <th>body</th>\n",
       "      <th>comment_length</th>\n",
       "      <th>comment_word_count</th>\n",
       "      <th>target</th>\n",
       "      <th>new_comments</th>\n",
       "    </tr>\n",
       "  </thead>\n",
       "  <tbody>\n",
       "    <tr>\n",
       "      <th>0</th>\n",
       "      <td>MachineLearning</td>\n",
       "      <td>Bottom line is, not everyone can do what IT an...</td>\n",
       "      <td>520</td>\n",
       "      <td>94</td>\n",
       "      <td>1</td>\n",
       "      <td>Bottom line is, not everyone can do what IT an...</td>\n",
       "    </tr>\n",
       "    <tr>\n",
       "      <th>1</th>\n",
       "      <td>MachineLearning</td>\n",
       "      <td>You are not alone with this. Because of the ea...</td>\n",
       "      <td>2526</td>\n",
       "      <td>411</td>\n",
       "      <td>1</td>\n",
       "      <td>You are not alone with this. Because of the ea...</td>\n",
       "    </tr>\n",
       "    <tr>\n",
       "      <th>2</th>\n",
       "      <td>MachineLearning</td>\n",
       "      <td>This sounds familiar to me. Feeling like an im...</td>\n",
       "      <td>627</td>\n",
       "      <td>114</td>\n",
       "      <td>1</td>\n",
       "      <td>This sounds familiar to me. Feeling like an im...</td>\n",
       "    </tr>\n",
       "  </tbody>\n",
       "</table>\n",
       "</div>"
      ],
      "text/plain": [
       "         subreddit                                               body  \\\n",
       "0  MachineLearning  Bottom line is, not everyone can do what IT an...   \n",
       "1  MachineLearning  You are not alone with this. Because of the ea...   \n",
       "2  MachineLearning  This sounds familiar to me. Feeling like an im...   \n",
       "\n",
       "   comment_length  comment_word_count  target  \\\n",
       "0             520                  94       1   \n",
       "1            2526                 411       1   \n",
       "2             627                 114       1   \n",
       "\n",
       "                                        new_comments  \n",
       "0  Bottom line is, not everyone can do what IT an...  \n",
       "1  You are not alone with this. Because of the ea...  \n",
       "2  This sounds familiar to me. Feeling like an im...  "
      ]
     },
     "execution_count": 20,
     "metadata": {},
     "output_type": "execute_result"
    }
   ],
   "source": [
    "#create df with both ai and ml subreddits\n",
    "df = pd.concat([ml_df,ai_df]).reset_index(drop=True)\n",
    "df.shape #(10000, 4)\n",
    "\n",
    "#assign target for binary classification\n",
    "df['target'] = df['subreddit'].replace('MachineLearning',1).replace('artificial',0)\n",
    "df.shape #(10000, 5)\n",
    "\n",
    "#apply remove_unwanted to comments in df\n",
    "df['new_comments'] = df['body'].apply(lambda comment: remove_unwanted(comment))\n",
    "df.shape #(10000, 6)\n",
    "df.head(3)"
   ]
  },
  {
   "cell_type": "code",
   "execution_count": 140,
   "id": "restricted-disposal",
   "metadata": {},
   "outputs": [
    {
     "data": {
      "text/plain": [
       "<AxesSubplot:>"
      ]
     },
     "execution_count": 140,
     "metadata": {},
     "output_type": "execute_result"
    },
    {
     "data": {
      "image/png": "[encoded data removed]",
      "text/plain": [
       "<Figure size 432x288 with 2 Axes>"
      ]
     },
     "metadata": {
      "needs_background": "light"
     },
     "output_type": "display_data"
    }
   ],
   "source": [
    "sns.heatmap(df.corr(),annot=True)"
   ]
  },
  {
   "cell_type": "markdown",
   "id": "gross-runner",
   "metadata": {},
   "source": [
    "The heatmap above shows that the comment length and word counts aren't highly correlated to our target, its best we take this out"
   ]
  },
  {
   "cell_type": "markdown",
   "id": "neutral-bikini",
   "metadata": {},
   "source": [
    "### Assign X y and perform Train Test Split"
   ]
  },
  {
   "cell_type": "code",
   "execution_count": 22,
   "id": "accurate-johnson",
   "metadata": {},
   "outputs": [],
   "source": [
    "X = df[['body','comment_length','comment_word_count']]#new_comments was not useful\n",
    "y = df['target']\n",
    "\n",
    "X_train,X_test,y_train,y_test = train_test_split(X,y)\n",
    "\n",
    "X_train.shape #(7500, 3)\n",
    "X_test.shape #(2500, 3)\n",
    "y_train.shape # (7500,)\n",
    "y_test.shape # (2500,)"
   ]
  },
  {
   "cell_type": "markdown",
   "id": "alternate-jacket",
   "metadata": {},
   "source": [
    "## Pass through Logistic Regression pipe"
   ]
  },
  {
   "cell_type": "code",
   "execution_count": 146,
   "id": "great-infection",
   "metadata": {},
   "outputs": [
    {
     "name": "stderr",
     "output_type": "stream",
     "text": [
      "/Users/anthonyreid/opt/anaconda3/envs/numpy/lib/python3.9/site-packages/sklearn/linear_model/_logistic.py:763: ConvergenceWarning: lbfgs failed to converge (status=1):\n",
      "STOP: TOTAL NO. of ITERATIONS REACHED LIMIT.\n",
      "\n",
      "Increase the number of iterations (max_iter) or scale the data as shown in:\n",
      "    https://scikit-learn.org/stable/modules/preprocessing.html\n",
      "Please also refer to the documentation for alternative solver options:\n",
      "    https://scikit-learn.org/stable/modules/linear_model.html#logistic-regression\n",
      "  n_iter_i = _check_optimize_result(\n"
     ]
    },
    {
     "data": {
      "text/plain": [
       "0.6811892912579411"
      ]
     },
     "execution_count": 146,
     "metadata": {},
     "output_type": "execute_result"
    }
   ],
   "source": [
    "trans_col = make_column_transformer(\n",
    "                                (CountVectorizer(stop_words='english'),'body'),\n",
    "                                remainder='passthrough')\n",
    "pipe_lr = make_pipeline(\n",
    "                        trans_col,\n",
    "                        StandardScaler(with_mean=False),\n",
    "                        LogisticRegression())\n",
    "\n",
    "pipe_lr.fit(X_train,y_train)\n",
    "pipe_lr.score(X_train,y_train) #.97\n",
    "pipe_lr.score(X_test,y_test) #.68\n",
    "balanced_accuracy_score(y_test,pipe_lr.predict(X_test))#0.68\n",
    "\n",
    "#len(pipe_lr['logisticregression'].coef_[0])#18,638\n",
    "#np.where(pipe_lr['logisticregression'].coef_[0] > 0.5,1,0).sum() #954\n",
    "#np.where(pipe_lr['logisticregression'].coef_[0] > 0.5,1,0).sum() #20"
   ]
  },
  {
   "cell_type": "markdown",
   "id": "dated-valley",
   "metadata": {},
   "source": [
    "Above we have a 68 score on accuracy and balanced accuracy on the test set. Better than our null model of 50% but we can try to imporve on this. An interesting thing to note is that the countvectorizer created 18,000 + features for words but less than 1,000 had a coefficient higher than 0.1. Only 20 features had a coefficient higher than 0.5. Those 20 words that were highly correlated are listed in a df below!"
   ]
  },
  {
   "cell_type": "code",
   "execution_count": 147,
   "id": "referenced-hypothetical",
   "metadata": {},
   "outputs": [
    {
     "data": {
      "text/html": [
       "<div>\n",
       "<style scoped>\n",
       "    .dataframe tbody tr th:only-of-type {\n",
       "        vertical-align: middle;\n",
       "    }\n",
       "\n",
       "    .dataframe tbody tr th {\n",
       "        vertical-align: top;\n",
       "    }\n",
       "\n",
       "    .dataframe thead th {\n",
       "        text-align: right;\n",
       "    }\n",
       "</style>\n",
       "<table border=\"1\" class=\"dataframe\">\n",
       "  <thead>\n",
       "    <tr style=\"text-align: right;\">\n",
       "      <th></th>\n",
       "      <th>coefs</th>\n",
       "      <th>word</th>\n",
       "    </tr>\n",
       "  </thead>\n",
       "  <tbody>\n",
       "    <tr>\n",
       "      <th>17004</th>\n",
       "      <td>0.872088</td>\n",
       "      <td>countvectorizer__title</td>\n",
       "    </tr>\n",
       "    <tr>\n",
       "      <th>4696</th>\n",
       "      <td>0.799195</td>\n",
       "      <td>countvectorizer__criteria</td>\n",
       "    </tr>\n",
       "    <tr>\n",
       "      <th>11075</th>\n",
       "      <td>0.741262</td>\n",
       "      <td>countvectorizer__ml</td>\n",
       "    </tr>\n",
       "    <tr>\n",
       "      <th>12637</th>\n",
       "      <td>0.733772</td>\n",
       "      <td>countvectorizer__phd</td>\n",
       "    </tr>\n",
       "    <tr>\n",
       "      <th>13689</th>\n",
       "      <td>0.724411</td>\n",
       "      <td>countvectorizer__questions</td>\n",
       "    </tr>\n",
       "    <tr>\n",
       "      <th>17321</th>\n",
       "      <td>0.715406</td>\n",
       "      <td>countvectorizer__true</td>\n",
       "    </tr>\n",
       "    <tr>\n",
       "      <th>5410</th>\n",
       "      <td>0.681448</td>\n",
       "      <td>countvectorizer__different</td>\n",
       "    </tr>\n",
       "    <tr>\n",
       "      <th>11085</th>\n",
       "      <td>0.642384</td>\n",
       "      <td>countvectorizer__mlquestions</td>\n",
       "    </tr>\n",
       "    <tr>\n",
       "      <th>4954</th>\n",
       "      <td>0.611168</td>\n",
       "      <td>countvectorizer__day</td>\n",
       "    </tr>\n",
       "    <tr>\n",
       "      <th>13772</th>\n",
       "      <td>0.602949</td>\n",
       "      <td>countvectorizer__random</td>\n",
       "    </tr>\n",
       "    <tr>\n",
       "      <th>6288</th>\n",
       "      <td>0.593625</td>\n",
       "      <td>countvectorizer__engineers</td>\n",
       "    </tr>\n",
       "    <tr>\n",
       "      <th>9732</th>\n",
       "      <td>0.589587</td>\n",
       "      <td>countvectorizer__kind</td>\n",
       "    </tr>\n",
       "    <tr>\n",
       "      <th>12336</th>\n",
       "      <td>0.583593</td>\n",
       "      <td>countvectorizer__paper</td>\n",
       "    </tr>\n",
       "    <tr>\n",
       "      <th>6994</th>\n",
       "      <td>0.560527</td>\n",
       "      <td>countvectorizer__field</td>\n",
       "    </tr>\n",
       "    <tr>\n",
       "      <th>781</th>\n",
       "      <td>0.546469</td>\n",
       "      <td>countvectorizer__3d</td>\n",
       "    </tr>\n",
       "    <tr>\n",
       "      <th>12341</th>\n",
       "      <td>0.543095</td>\n",
       "      <td>countvectorizer__papers</td>\n",
       "    </tr>\n",
       "    <tr>\n",
       "      <th>5397</th>\n",
       "      <td>0.540450</td>\n",
       "      <td>countvectorizer__didn</td>\n",
       "    </tr>\n",
       "    <tr>\n",
       "      <th>9550</th>\n",
       "      <td>0.528454</td>\n",
       "      <td>countvectorizer__job</td>\n",
       "    </tr>\n",
       "    <tr>\n",
       "      <th>7772</th>\n",
       "      <td>0.515766</td>\n",
       "      <td>countvectorizer__god</td>\n",
       "    </tr>\n",
       "    <tr>\n",
       "      <th>8105</th>\n",
       "      <td>0.508691</td>\n",
       "      <td>countvectorizer__hand</td>\n",
       "    </tr>\n",
       "  </tbody>\n",
       "</table>\n",
       "</div>"
      ],
      "text/plain": [
       "          coefs                          word\n",
       "17004  0.872088        countvectorizer__title\n",
       "4696   0.799195     countvectorizer__criteria\n",
       "11075  0.741262           countvectorizer__ml\n",
       "12637  0.733772          countvectorizer__phd\n",
       "13689  0.724411    countvectorizer__questions\n",
       "17321  0.715406         countvectorizer__true\n",
       "5410   0.681448    countvectorizer__different\n",
       "11085  0.642384  countvectorizer__mlquestions\n",
       "4954   0.611168          countvectorizer__day\n",
       "13772  0.602949       countvectorizer__random\n",
       "6288   0.593625    countvectorizer__engineers\n",
       "9732   0.589587         countvectorizer__kind\n",
       "12336  0.583593        countvectorizer__paper\n",
       "6994   0.560527        countvectorizer__field\n",
       "781    0.546469           countvectorizer__3d\n",
       "12341  0.543095       countvectorizer__papers\n",
       "5397   0.540450         countvectorizer__didn\n",
       "9550   0.528454          countvectorizer__job\n",
       "7772   0.515766          countvectorizer__god\n",
       "8105   0.508691         countvectorizer__hand"
      ]
     },
     "execution_count": 147,
     "metadata": {},
     "output_type": "execute_result"
    }
   ],
   "source": [
    "#go into pipe and then trans col and then get coef and featur names \n",
    "coefs = pipe_lr['logisticregression'].coef_\n",
    "features = trans_col.get_feature_names()\n",
    "coef_df = pd.DataFrame({'coefs': coefs[0], 'word': features})\n",
    "coef_df.nlargest(20, 'coefs')"
   ]
  },
  {
   "cell_type": "code",
   "execution_count": 205,
   "id": "statutory-latex",
   "metadata": {},
   "outputs": [
    {
     "data": {
      "image/png": "[encoded data removed]",
      "text/plain": [
       "<Figure size 432x288 with 1 Axes>"
      ]
     },
     "metadata": {
      "needs_background": "light"
     },
     "output_type": "display_data"
    }
   ],
   "source": []
  },
  {
   "cell_type": "code",
   "execution_count": 28,
   "id": "major-winter",
   "metadata": {
    "tags": []
   },
   "outputs": [
    {
     "data": {
      "text/plain": [
       "<sklearn.metrics._plot.confusion_matrix.ConfusionMatrixDisplay at 0x14b67a2e0>"
      ]
     },
     "execution_count": 28,
     "metadata": {},
     "output_type": "execute_result"
    },
    {
     "data": {
      "image/png": "[encoded data removed]",
      "text/plain": [
       "<Figure size 432x288 with 2 Axes>"
      ]
     },
     "metadata": {
      "needs_background": "light"
     },
     "output_type": "display_data"
    }
   ],
   "source": [
    "plot_confusion_matrix(pipe_lr,X_test,y_test,normalize='true')\n"
   ]
  },
  {
   "cell_type": "markdown",
   "id": "everyday-heritage",
   "metadata": {},
   "source": [
    "Our model is predicting 65% of the ml subreddits correct and 72% of the ai subreddits correct. We can check other metrics for performance, but keeping it to balanced accuracy and accuracy are enoguh for this model because there is no penalty for type 1 or 2 errors"
   ]
  },
  {
   "cell_type": "markdown",
   "id": "hired-issue",
   "metadata": {},
   "source": [
    "## Pass lemmatization to a few estimators"
   ]
  },
  {
   "cell_type": "code",
   "execution_count": 30,
   "id": "atomic-sensitivity",
   "metadata": {},
   "outputs": [],
   "source": [
    "#Create lemmatization formula to pass to other \n",
    "nlp = spacy.load('en_core_web_sm')\n",
    "def lemmatized(sentence):\n",
    "    doc = nlp(sentence)\n",
    "    return [token.lemma_ for token in doc]"
   ]
  },
  {
   "cell_type": "markdown",
   "id": "seventh-exhibition",
   "metadata": {},
   "source": [
    "## Logistic Regression through GridSearch"
   ]
  },
  {
   "cell_type": "code",
   "execution_count": 46,
   "id": "opened-lover",
   "metadata": {},
   "outputs": [],
   "source": [
    "trans_col = make_column_transformer(\n",
    "                                (CountVectorizer(tokenizer=lemmatized,\n",
    "                                                stop_words='english',\n",
    "                                                max_features=10_000),\n",
    "                                                 'body'),\n",
    "                                remainder='passthrough')\n",
    "pipe_lr2 = make_pipeline(\n",
    "                        trans_col,\n",
    "                        StandardScaler(with_mean=False),\n",
    "                        LogisticRegression(n_jobs = -1))\n",
    "params_lr = {\n",
    "        #'trans_col__countvectorizer__max_features': [6000,10_000, 13_000],\n",
    "         #'countvectorizer__stop_words':['english',None],     \n",
    "          #'countvectorizer__tokenizer':[lemmatized,None],\n",
    "          'logisticregression__C':[0.5, 0.75, 1]\n",
    "          }\n",
    "\n",
    "gs_lr = GridSearchCV(pipe_lr2, params_lr, n_jobs = -1)\n",
    "gs_lr.fit(X_train,y_train)\n",
    "gs_lr.score(X_train,y_train)#0.97\n",
    "gs_lr.score(X_test,y_test)  #0.71"
   ]
  },
  {
   "cell_type": "code",
   "execution_count": 51,
   "id": "starting-inspiration",
   "metadata": {},
   "outputs": [
    {
     "data": {
      "text/html": [
       "<div>\n",
       "<style scoped>\n",
       "    .dataframe tbody tr th:only-of-type {\n",
       "        vertical-align: middle;\n",
       "    }\n",
       "\n",
       "    .dataframe tbody tr th {\n",
       "        vertical-align: top;\n",
       "    }\n",
       "\n",
       "    .dataframe thead th {\n",
       "        text-align: right;\n",
       "    }\n",
       "</style>\n",
       "<table border=\"1\" class=\"dataframe\">\n",
       "  <thead>\n",
       "    <tr style=\"text-align: right;\">\n",
       "      <th></th>\n",
       "      <th>mean_fit_time</th>\n",
       "      <th>std_fit_time</th>\n",
       "      <th>mean_score_time</th>\n",
       "      <th>std_score_time</th>\n",
       "      <th>param_logisticregression__C</th>\n",
       "      <th>params</th>\n",
       "      <th>split0_test_score</th>\n",
       "      <th>split1_test_score</th>\n",
       "      <th>split2_test_score</th>\n",
       "      <th>split3_test_score</th>\n",
       "      <th>split4_test_score</th>\n",
       "      <th>mean_test_score</th>\n",
       "      <th>std_test_score</th>\n",
       "      <th>rank_test_score</th>\n",
       "    </tr>\n",
       "  </thead>\n",
       "  <tbody>\n",
       "    <tr>\n",
       "      <th>0</th>\n",
       "      <td>131.529703</td>\n",
       "      <td>0.258405</td>\n",
       "      <td>31.383164</td>\n",
       "      <td>0.433072</td>\n",
       "      <td>0.5</td>\n",
       "      <td>{'logisticregression__C': 0.5}</td>\n",
       "      <td>0.718000</td>\n",
       "      <td>0.738</td>\n",
       "      <td>0.704667</td>\n",
       "      <td>0.732000</td>\n",
       "      <td>0.711333</td>\n",
       "      <td>0.720800</td>\n",
       "      <td>0.012482</td>\n",
       "      <td>1</td>\n",
       "    </tr>\n",
       "    <tr>\n",
       "      <th>1</th>\n",
       "      <td>129.567851</td>\n",
       "      <td>2.469366</td>\n",
       "      <td>30.908482</td>\n",
       "      <td>0.720000</td>\n",
       "      <td>0.75</td>\n",
       "      <td>{'logisticregression__C': 0.75}</td>\n",
       "      <td>0.716667</td>\n",
       "      <td>0.734</td>\n",
       "      <td>0.701333</td>\n",
       "      <td>0.725333</td>\n",
       "      <td>0.709333</td>\n",
       "      <td>0.717333</td>\n",
       "      <td>0.011508</td>\n",
       "      <td>2</td>\n",
       "    </tr>\n",
       "    <tr>\n",
       "      <th>2</th>\n",
       "      <td>127.794846</td>\n",
       "      <td>0.496050</td>\n",
       "      <td>29.857006</td>\n",
       "      <td>0.359817</td>\n",
       "      <td>1</td>\n",
       "      <td>{'logisticregression__C': 1}</td>\n",
       "      <td>0.710667</td>\n",
       "      <td>0.732</td>\n",
       "      <td>0.699333</td>\n",
       "      <td>0.722667</td>\n",
       "      <td>0.707333</td>\n",
       "      <td>0.714400</td>\n",
       "      <td>0.011567</td>\n",
       "      <td>3</td>\n",
       "    </tr>\n",
       "  </tbody>\n",
       "</table>\n",
       "</div>"
      ],
      "text/plain": [
       "   mean_fit_time  std_fit_time  mean_score_time  std_score_time  \\\n",
       "0     131.529703      0.258405        31.383164        0.433072   \n",
       "1     129.567851      2.469366        30.908482        0.720000   \n",
       "2     127.794846      0.496050        29.857006        0.359817   \n",
       "\n",
       "  param_logisticregression__C                           params  \\\n",
       "0                         0.5   {'logisticregression__C': 0.5}   \n",
       "1                        0.75  {'logisticregression__C': 0.75}   \n",
       "2                           1     {'logisticregression__C': 1}   \n",
       "\n",
       "   split0_test_score  split1_test_score  split2_test_score  split3_test_score  \\\n",
       "0           0.718000              0.738           0.704667           0.732000   \n",
       "1           0.716667              0.734           0.701333           0.725333   \n",
       "2           0.710667              0.732           0.699333           0.722667   \n",
       "\n",
       "   split4_test_score  mean_test_score  std_test_score  rank_test_score  \n",
       "0           0.711333         0.720800        0.012482                1  \n",
       "1           0.709333         0.717333        0.011508                2  \n",
       "2           0.707333         0.714400        0.011567                3  "
      ]
     },
     "execution_count": 51,
     "metadata": {},
     "output_type": "execute_result"
    }
   ],
   "source": [
    "pd.DataFrame(gs_lr.cv_results_)"
   ]
  },
  {
   "cell_type": "markdown",
   "id": "electrical-colombia",
   "metadata": {},
   "source": [
    "The grid search revealed that an upgrade to our countvectorizer and logistic regression improved the score. As we lemmatize our words (ranking by popularity of the root words) and decreasing our C (the inverse of alpha) to 0.5, we improve our score to 72%"
   ]
  },
  {
   "cell_type": "markdown",
   "id": "thick-diesel",
   "metadata": {},
   "source": [
    "## Decision Tree Classifier "
   ]
  },
  {
   "cell_type": "code",
   "execution_count": 159,
   "id": "studied-pasta",
   "metadata": {},
   "outputs": [
    {
     "data": {
      "text/plain": [
       "0.616"
      ]
     },
     "execution_count": 159,
     "metadata": {},
     "output_type": "execute_result"
    }
   ],
   "source": [
    "#create column transformer to pass to pipe\n",
    "trans_col_dtree = make_column_transformer(\n",
    "                                    (TfidfVectorizer(stop_words = 'english'),\n",
    "                                    'body'))\n",
    "#create pipe \n",
    "pipe_dtree = make_pipeline(trans_col_dtree,\n",
    "                          StandardScaler(with_mean=False),\n",
    "                          DecisionTreeClassifier(criterion='entropy',\n",
    "                                                max_depth=4))\n",
    "#fit and score\n",
    "pipe_dtree.fit(X_train,y_train)\n",
    "pipe_dtree.score(X_train,y_train) # 983\n",
    "pipe_dtree.score(X_test,y_test) #0.68 #with 10,000 max depth\n",
    "\n"
   ]
  },
  {
   "cell_type": "code",
   "execution_count": 161,
   "id": "promising-albany",
   "metadata": {},
   "outputs": [
    {
     "data": {
      "image/png": "[encoded data removed]",
      "text/plain": [
       "<Figure size 1440x1440 with 1 Axes>"
      ]
     },
     "metadata": {
      "needs_background": "light"
     },
     "output_type": "display_data"
    }
   ],
   "source": [
    "#Plot and interpret\n",
    "plt.figure(figsize=(20,20));\n",
    "plot_tree(pipe_dtree['decisiontreeclassifier'], feature_names = trans_col_dtree.get_feature_names(), filled=True);"
   ]
  },
  {
   "cell_type": "markdown",
   "id": "classified-looking",
   "metadata": {},
   "source": [
    "My original decision tree with the best score had max features up to 10,000 but this image above has max depth of 4 to show which features the decision tree is splitting on. The top 6 features the decision tree is splitting on it ai, papers, google, and ml with an entropy grading criteria. The best performing tree had an accuracy score of 68% this is performing less than the logistic regression. "
   ]
  },
  {
   "cell_type": "markdown",
   "id": "proprietary-principal",
   "metadata": {},
   "source": [
    "## Random forest Classifier"
   ]
  },
  {
   "cell_type": "code",
   "execution_count": 165,
   "id": "capable-aside",
   "metadata": {},
   "outputs": [
    {
     "data": {
      "text/plain": [
       "0.748"
      ]
     },
     "execution_count": 165,
     "metadata": {},
     "output_type": "execute_result"
    }
   ],
   "source": [
    "#reassign xtrain to have only text\n",
    "X_train1 = X_train['body']\n",
    "pipe_rf = make_pipeline(TfidfVectorizer(stop_words='english'),\n",
    "                       StandardScaler(with_mean=False),\n",
    "                       RandomForestClassifier(n_estimators=500))\n",
    "\n",
    "#fit and score\n",
    "pipe_rf.fit(X_train1,y_train)\n",
    "pipe_rf.score(X_train1,y_train)#.98 w tfdif\n",
    "\n",
    "X_test1 = X_test['body']\n",
    "pipe_rf.score(X_test1,y_test) #.75 w. cvect\n",
    "#pipe_rf.score(X_test1,y_test) #.745 w. tfdif"
   ]
  },
  {
   "cell_type": "markdown",
   "id": "hungarian-trick",
   "metadata": {},
   "source": [
    "The random forest classifier is an ensembling method that takes many decision trees and chooses the most popular output for each step. This is a good method because as we saw with the single decision tree, our a score was 68% but with 500 trees our score increased to 75%"
   ]
  },
  {
   "cell_type": "markdown",
   "id": "cultural-attraction",
   "metadata": {},
   "source": [
    "## Multinomial NaiveBayes"
   ]
  },
  {
   "cell_type": "code",
   "execution_count": 166,
   "id": "dominant-concept",
   "metadata": {},
   "outputs": [
    {
     "data": {
      "text/plain": [
       "0.7133939287257365"
      ]
     },
     "execution_count": 166,
     "metadata": {},
     "output_type": "execute_result"
    }
   ],
   "source": [
    "trans_col_nb = make_column_transformer(\n",
    "                                (CountVectorizer(),'body'),\n",
    "                                remainder='passthrough')\n",
    "pipe_nb = make_pipeline(\n",
    "                        trans_col_nb,\n",
    "                        StandardScaler(with_mean=False),\n",
    "                        MultinomialNB())\n",
    "\n",
    "pipe_nb.fit(X_train,y_train)\n",
    "pipe_nb.score(X_train,y_train) #.90\n",
    "pipe_nb.score(X_test,y_test) #.71\n",
    "balanced_accuracy_score(y_test,pipe_nb.predict(X_test))"
   ]
  },
  {
   "cell_type": "markdown",
   "id": "unavailable-platform",
   "metadata": {},
   "source": [
    "Naive bayes is a great classifier that uses conditional probabilities of features and targets to make predictions about the target. There is less matrix algebra and other difficult math involved in this estimator, but the results are still very close to some of the earlier regressors. The final score was 71%"
   ]
  },
  {
   "cell_type": "markdown",
   "id": "handed-tomato",
   "metadata": {},
   "source": [
    "## Nearest neighbor classifier "
   ]
  },
  {
   "cell_type": "code",
   "execution_count": 127,
   "id": "front-division",
   "metadata": {
    "tags": []
   },
   "outputs": [
    {
     "data": {
      "text/plain": [
       "0.5776"
      ]
     },
     "execution_count": 127,
     "metadata": {},
     "output_type": "execute_result"
    }
   ],
   "source": [
    "trans_col_knn = make_column_transformer(\n",
    "                                (CountVectorizer(),'body'),\n",
    "                                remainder='passthrough')\n",
    "\n",
    "pipe_knn = make_pipeline(trans_col_knn,\n",
    "                        KNeighborsClassifier(n_jobs=-1)\n",
    "                        )\n",
    "pipe_knn.fit(X_train,y_train)\n",
    "pipe_knn.score(X_train,y_train)#0.727\n",
    "pipe_knn.score(X_test,y_test) #0.5776\n"
   ]
  },
  {
   "cell_type": "markdown",
   "id": "twenty-startup",
   "metadata": {},
   "source": [
    "The nearest neighbor classifier was the worst performing estimator at 57% accuracy and was greater than the null by a relatively small margin.  "
   ]
  },
  {
   "cell_type": "markdown",
   "id": "excited-darkness",
   "metadata": {},
   "source": [
    "## Ensemble with best estimators (Logistic, RF, Naive Baye)"
   ]
  },
  {
   "cell_type": "code",
   "execution_count": 167,
   "id": "present-sarah",
   "metadata": {},
   "outputs": [
    {
     "data": {
      "text/plain": [
       "0.7788"
      ]
     },
     "execution_count": 167,
     "metadata": {},
     "output_type": "execute_result"
    }
   ],
   "source": [
    "pipe_ensem = make_pipeline(CountVectorizer(stop_words='english'),\n",
    "                           VotingClassifier([('rf', RandomForestClassifier()),\n",
    "                                             ('lr', LogisticRegression(C=0.5)),\n",
    "                                             ('nb', MultinomialNB())\n",
    "                                            ]\n",
    "                                            ))\n",
    "params_ensem = {\n",
    "    #'votingclassifer__voting': ['hard', 'soft'],\n",
    "    #'votingclassifer__weights': [[1, 0, 0],[0, 1, 0], [0, 0, 1],[.3, .3, .3], [.4, .2, .4]],\n",
    "    #'countvectorizer__stop_words':['english',None],\n",
    "    'countvectorizer__ngram_range':[(2,3),(1,2)]\n",
    "}\n",
    "                           \n",
    "gs_ensem = GridSearchCV(pipe_ensem, params_ensem, n_jobs=-1)\n",
    "gs_ensem.fit(X_train1,y_train)\n",
    "gs_ensem.score(X_train1,y_train)#0.977\n",
    "gs_ensem.score(X_test1,y_test)#0.77"
   ]
  },
  {
   "cell_type": "code",
   "execution_count": 125,
   "id": "invisible-legislation",
   "metadata": {
    "tags": []
   },
   "outputs": [
    {
     "data": {
      "text/html": [
       "<style>div.sk-top-container {color: black;background-color: white;}div.sk-toggleable {background-color: white;}label.sk-toggleable__label {cursor: pointer;display: block;width: 100%;margin-bottom: 0;padding: 0.2em 0.3em;box-sizing: border-box;text-align: center;}div.sk-toggleable__content {max-height: 0;max-width: 0;overflow: hidden;text-align: left;background-color: #f0f8ff;}div.sk-toggleable__content pre {margin: 0.2em;color: black;border-radius: 0.25em;background-color: #f0f8ff;}input.sk-toggleable__control:checked~div.sk-toggleable__content {max-height: 200px;max-width: 100%;overflow: auto;}div.sk-estimator input.sk-toggleable__control:checked~label.sk-toggleable__label {background-color: #d4ebff;}div.sk-label input.sk-toggleable__control:checked~label.sk-toggleable__label {background-color: #d4ebff;}input.sk-hidden--visually {border: 0;clip: rect(1px 1px 1px 1px);clip: rect(1px, 1px, 1px, 1px);height: 1px;margin: -1px;overflow: hidden;padding: 0;position: absolute;width: 1px;}div.sk-estimator {font-family: monospace;background-color: #f0f8ff;margin: 0.25em 0.25em;border: 1px dotted black;border-radius: 0.25em;box-sizing: border-box;}div.sk-estimator:hover {background-color: #d4ebff;}div.sk-parallel-item::after {content: \"\";width: 100%;border-bottom: 1px solid gray;flex-grow: 1;}div.sk-label:hover label.sk-toggleable__label {background-color: #d4ebff;}div.sk-serial::before {content: \"\";position: absolute;border-left: 1px solid gray;box-sizing: border-box;top: 2em;bottom: 0;left: 50%;}div.sk-serial {display: flex;flex-direction: column;align-items: center;background-color: white;}div.sk-item {z-index: 1;}div.sk-parallel {display: flex;align-items: stretch;justify-content: center;background-color: white;}div.sk-parallel-item {display: flex;flex-direction: column;position: relative;background-color: white;}div.sk-parallel-item:first-child::after {align-self: flex-end;width: 50%;}div.sk-parallel-item:last-child::after {align-self: flex-start;width: 50%;}div.sk-parallel-item:only-child::after {width: 0;}div.sk-dashed-wrapped {border: 1px dashed gray;margin: 0.2em;box-sizing: border-box;padding-bottom: 0.1em;background-color: white;position: relative;}div.sk-label label {font-family: monospace;font-weight: bold;background-color: white;display: inline-block;line-height: 1.2em;}div.sk-label-container {position: relative;z-index: 2;text-align: center;}div.sk-container {display: inline-block;position: relative;}</style><div class=\"sk-top-container\"><div class=\"sk-container\"><div class=\"sk-item sk-dashed-wrapped\"><div class=\"sk-label-container\"><div class=\"sk-label sk-toggleable\"><input class=\"sk-toggleable__control sk-hidden--visually\" id=\"be65d546-22db-4756-9d7b-e2bc1bf53263\" type=\"checkbox\" ><label class=\"sk-toggleable__label\" for=\"be65d546-22db-4756-9d7b-e2bc1bf53263\">Pipeline</label><div class=\"sk-toggleable__content\"><pre>Pipeline(steps=[('countvectorizer',\n",
       "                 CountVectorizer(ngram_range=(1, 2), stop_words='english')),\n",
       "                ('votingclassifier',\n",
       "                 VotingClassifier(estimators=[('rf', RandomForestClassifier()),\n",
       "                                              ('lr', LogisticRegression()),\n",
       "                                              ('nb', MultinomialNB())]))])</pre></div></div></div><div class=\"sk-serial\"><div class=\"sk-item\"><div class=\"sk-estimator sk-toggleable\"><input class=\"sk-toggleable__control sk-hidden--visually\" id=\"808f1df6-5042-42f3-8465-18788fd1eda3\" type=\"checkbox\" ><label class=\"sk-toggleable__label\" for=\"808f1df6-5042-42f3-8465-18788fd1eda3\">CountVectorizer</label><div class=\"sk-toggleable__content\"><pre>CountVectorizer(ngram_range=(1, 2), stop_words='english')</pre></div></div></div><div class=\"sk-item sk-dashed-wrapped\"><div class=\"sk-label-container\"><div class=\"sk-label sk-toggleable\"><input class=\"sk-toggleable__control sk-hidden--visually\" id=\"3218a2c8-e137-44f8-a4d1-f4822bc0d5b8\" type=\"checkbox\" ><label class=\"sk-toggleable__label\" for=\"3218a2c8-e137-44f8-a4d1-f4822bc0d5b8\">votingclassifier: VotingClassifier</label><div class=\"sk-toggleable__content\"><pre>VotingClassifier(estimators=[('rf', RandomForestClassifier()),\n",
       "                             ('lr', LogisticRegression()),\n",
       "                             ('nb', MultinomialNB())])</pre></div></div></div><div class=\"sk-parallel\"><div class=\"sk-parallel-item\"><div class=\"sk-item\"><div class=\"sk-label-container\"><div class=\"sk-label sk-toggleable\"><label>rf</label></div></div><div class=\"sk-serial\"><div class=\"sk-item\"><div class=\"sk-estimator sk-toggleable\"><input class=\"sk-toggleable__control sk-hidden--visually\" id=\"68502429-7f9b-4845-a150-f640afa523cd\" type=\"checkbox\" ><label class=\"sk-toggleable__label\" for=\"68502429-7f9b-4845-a150-f640afa523cd\">RandomForestClassifier</label><div class=\"sk-toggleable__content\"><pre>RandomForestClassifier()</pre></div></div></div></div></div></div><div class=\"sk-parallel-item\"><div class=\"sk-item\"><div class=\"sk-label-container\"><div class=\"sk-label sk-toggleable\"><label>lr</label></div></div><div class=\"sk-serial\"><div class=\"sk-item\"><div class=\"sk-estimator sk-toggleable\"><input class=\"sk-toggleable__control sk-hidden--visually\" id=\"7ce6c927-0ceb-4e8d-ab6b-798349fe5dda\" type=\"checkbox\" ><label class=\"sk-toggleable__label\" for=\"7ce6c927-0ceb-4e8d-ab6b-798349fe5dda\">LogisticRegression</label><div class=\"sk-toggleable__content\"><pre>LogisticRegression()</pre></div></div></div></div></div></div><div class=\"sk-parallel-item\"><div class=\"sk-item\"><div class=\"sk-label-container\"><div class=\"sk-label sk-toggleable\"><label>nb</label></div></div><div class=\"sk-serial\"><div class=\"sk-item\"><div class=\"sk-estimator sk-toggleable\"><input class=\"sk-toggleable__control sk-hidden--visually\" id=\"6d6d5a08-b32f-4385-a9ae-b06036cef174\" type=\"checkbox\" ><label class=\"sk-toggleable__label\" for=\"6d6d5a08-b32f-4385-a9ae-b06036cef174\">MultinomialNB</label><div class=\"sk-toggleable__content\"><pre>MultinomialNB()</pre></div></div></div></div></div></div></div></div></div></div></div></div>"
      ],
      "text/plain": [
       "Pipeline(steps=[('countvectorizer',\n",
       "                 CountVectorizer(ngram_range=(1, 2), stop_words='english')),\n",
       "                ('votingclassifier',\n",
       "                 VotingClassifier(estimators=[('rf', RandomForestClassifier()),\n",
       "                                              ('lr', LogisticRegression()),\n",
       "                                              ('nb', MultinomialNB())]))])"
      ]
     },
     "execution_count": 125,
     "metadata": {},
     "output_type": "execute_result"
    }
   ],
   "source": [
    "gs_ensem.best_estimator_"
   ]
  },
  {
   "cell_type": "code",
   "execution_count": 210,
   "id": "regulated-profile",
   "metadata": {},
   "outputs": [
    {
     "data": {
      "text/plain": [
       "array([0])"
      ]
     },
     "execution_count": 210,
     "metadata": {},
     "output_type": "execute_result"
    }
   ],
   "source": [
    "\n",
    "gs_ensem.predict(['the use and development of computer systems that are able to learn and adapt without following explicit instructions, by using algorithms and statistical models to analyze and draw inferences from patterns in data.']) #0\n",
    "gs_ensem.predict(['the theory and development of computer systems able to perform tasks that normally require human intelligence, such as visual perception, speech recognition, decision-making, and translation between languages.']) #0\n",
    "gs_ensem.predict(['ai ai ai ai']) #0\n",
    "gs_ensem.predict(['ml ml ml ml']) #1\n",
    "gs_ensem.predict([' title criteria phd true']) #1\n",
    "gs_ensem.predict(['robots start liked source humans'])#0\n",
    "\n",
    "gs_ensem.predict(['I will probably never be in a position to use this personally, but kudos for the effort and putting this out there! More efficient models is a good and worthwhile goal.']) #1\n",
    "gs_ensem.predict(['One way it has changed the industry is that there are so many people on sites like fiverr that advertise human translation but then just use google translate. Probably the majority.'])#0\n",
    "gs_ensem.predict(['please predict machine learning'])#0"
   ]
  },
  {
   "cell_type": "code",
   "execution_count": 208,
   "id": "prescription-thread",
   "metadata": {},
   "outputs": [
    {
     "data": {
      "image/png": "[encoded data removed]",
      "text/plain": [
       "<Figure size 432x288 with 1 Axes>"
      ]
     },
     "metadata": {
      "needs_background": "light"
     },
     "output_type": "display_data"
    }
   ],
   "source": [
    "plt.bar(['Ai','ML','Model Performance'],[86,70,78]);\n",
    "plt.xlabel('Subject Predicted',size =20);\n",
    "plt.ylabel('Accuracy',size = 20);\n",
    "plt.title('Percent of Correct Predictions',size = 20);"
   ]
  },
  {
   "cell_type": "code",
   "execution_count": 207,
   "id": "express-calcium",
   "metadata": {
    "tags": []
   },
   "outputs": [
    {
     "data": {
      "text/plain": [
       "<sklearn.metrics._plot.confusion_matrix.ConfusionMatrixDisplay at 0x157153970>"
      ]
     },
     "execution_count": 207,
     "metadata": {},
     "output_type": "execute_result"
    },
    {
     "data": {
      "image/png": "[encoded data removed]",
      "text/plain": [
       "<Figure size 432x288 with 2 Axes>"
      ]
     },
     "metadata": {
      "needs_background": "light"
     },
     "output_type": "display_data"
    }
   ],
   "source": [
    "plot_confusion_matrix(gs_ensem,X_test1, y_test, normalize='true')"
   ]
  },
  {
   "cell_type": "code",
   "execution_count": 187,
   "id": "certified-portsmouth",
   "metadata": {},
   "outputs": [
    {
     "data": {
      "text/html": [
       "<div>\n",
       "<style scoped>\n",
       "    .dataframe tbody tr th:only-of-type {\n",
       "        vertical-align: middle;\n",
       "    }\n",
       "\n",
       "    .dataframe tbody tr th {\n",
       "        vertical-align: top;\n",
       "    }\n",
       "\n",
       "    .dataframe thead th {\n",
       "        text-align: right;\n",
       "    }\n",
       "</style>\n",
       "<table border=\"1\" class=\"dataframe\">\n",
       "  <thead>\n",
       "    <tr style=\"text-align: right;\">\n",
       "      <th></th>\n",
       "      <th>mean_fit_time</th>\n",
       "      <th>std_fit_time</th>\n",
       "      <th>mean_score_time</th>\n",
       "      <th>std_score_time</th>\n",
       "      <th>param_countvectorizer__ngram_range</th>\n",
       "      <th>params</th>\n",
       "      <th>split0_test_score</th>\n",
       "      <th>split1_test_score</th>\n",
       "      <th>split2_test_score</th>\n",
       "      <th>split3_test_score</th>\n",
       "      <th>split4_test_score</th>\n",
       "      <th>mean_test_score</th>\n",
       "      <th>std_test_score</th>\n",
       "      <th>rank_test_score</th>\n",
       "    </tr>\n",
       "  </thead>\n",
       "  <tbody>\n",
       "    <tr>\n",
       "      <th>0</th>\n",
       "      <td>97.538088</td>\n",
       "      <td>2.781272</td>\n",
       "      <td>1.356857</td>\n",
       "      <td>0.216082</td>\n",
       "      <td>(2, 3)</td>\n",
       "      <td>{'countvectorizer__ngram_range': (2, 3)}</td>\n",
       "      <td>0.641333</td>\n",
       "      <td>0.640667</td>\n",
       "      <td>0.646667</td>\n",
       "      <td>0.654667</td>\n",
       "      <td>0.657333</td>\n",
       "      <td>0.648133</td>\n",
       "      <td>0.006804</td>\n",
       "      <td>2</td>\n",
       "    </tr>\n",
       "    <tr>\n",
       "      <th>1</th>\n",
       "      <td>65.876507</td>\n",
       "      <td>27.733949</td>\n",
       "      <td>0.496601</td>\n",
       "      <td>0.182906</td>\n",
       "      <td>(1, 2)</td>\n",
       "      <td>{'countvectorizer__ngram_range': (1, 2)}</td>\n",
       "      <td>0.755333</td>\n",
       "      <td>0.765333</td>\n",
       "      <td>0.754000</td>\n",
       "      <td>0.759333</td>\n",
       "      <td>0.766667</td>\n",
       "      <td>0.760133</td>\n",
       "      <td>0.005119</td>\n",
       "      <td>1</td>\n",
       "    </tr>\n",
       "  </tbody>\n",
       "</table>\n",
       "</div>"
      ],
      "text/plain": [
       "   mean_fit_time  std_fit_time  mean_score_time  std_score_time  \\\n",
       "0      97.538088      2.781272         1.356857        0.216082   \n",
       "1      65.876507     27.733949         0.496601        0.182906   \n",
       "\n",
       "  param_countvectorizer__ngram_range  \\\n",
       "0                             (2, 3)   \n",
       "1                             (1, 2)   \n",
       "\n",
       "                                     params  split0_test_score  \\\n",
       "0  {'countvectorizer__ngram_range': (2, 3)}           0.641333   \n",
       "1  {'countvectorizer__ngram_range': (1, 2)}           0.755333   \n",
       "\n",
       "   split1_test_score  split2_test_score  split3_test_score  split4_test_score  \\\n",
       "0           0.640667           0.646667           0.654667           0.657333   \n",
       "1           0.765333           0.754000           0.759333           0.766667   \n",
       "\n",
       "   mean_test_score  std_test_score  rank_test_score  \n",
       "0         0.648133        0.006804                2  \n",
       "1         0.760133        0.005119                1  "
      ]
     },
     "execution_count": 187,
     "metadata": {},
     "output_type": "execute_result"
    }
   ],
   "source": [
    "pd.DataFrame(gs_ensem.cv_results_)"
   ]
  },
  {
   "cell_type": "code",
   "execution_count": null,
   "id": "cooperative-native",
   "metadata": {},
   "outputs": [],
   "source": []
  },
  {
   "cell_type": "code",
   "execution_count": null,
   "id": "tough-silicon",
   "metadata": {},
   "outputs": [],
   "source": []
  },
  {
   "cell_type": "code",
   "execution_count": null,
   "id": "domestic-bradford",
   "metadata": {},
   "outputs": [],
   "source": []
  },
  {
   "cell_type": "code",
   "execution_count": null,
   "id": "phantom-plenty",
   "metadata": {},
   "outputs": [],
   "source": []
  },
  {
   "cell_type": "code",
   "execution_count": null,
   "id": "tracked-slovakia",
   "metadata": {},
   "outputs": [],
   "source": []
  },
  {
   "cell_type": "code",
   "execution_count": null,
   "id": "numeric-tunisia",
   "metadata": {},
   "outputs": [],
   "source": []
  },
  {
   "cell_type": "code",
   "execution_count": null,
   "id": "three-funeral",
   "metadata": {},
   "outputs": [],
   "source": []
  }
 ],
 "metadata": {
  "kernelspec": {
   "display_name": "Python 3",
   "language": "python",
   "name": "python3"
  },
  "language_info": {
   "codemirror_mode": {
    "name": "ipython",
    "version": 3
   },
   "file_extension": ".py",
   "mimetype": "text/x-python",
   "name": "python",
   "nbconvert_exporter": "python",
   "pygments_lexer": "ipython3",
   "version": "3.9.2"
  }
 },
 "nbformat": 4,
 "nbformat_minor": 5
}
